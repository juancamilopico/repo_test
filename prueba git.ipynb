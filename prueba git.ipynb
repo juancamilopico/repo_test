{
 "cells": [
  {
   "cell_type": "code",
   "execution_count": 1,
   "id": "8c58a060",
   "metadata": {},
   "outputs": [
    {
     "name": "stdout",
     "output_type": "stream",
     "text": [
      "prueba git 1\n"
     ]
    }
   ],
   "source": [
    "print(\"prueba git 1\")"
   ]
  },
  {
   "cell_type": "code",
   "execution_count": 2,
   "id": "678c3e70",
   "metadata": {},
   "outputs": [
    {
     "name": "stdout",
     "output_type": "stream",
     "text": [
      "prueba git 2\n"
     ]
    }
   ],
   "source": [
    "print(\"prueba git 2\")"
   ]
  },
  {
   "cell_type": "code",
   "execution_count": null,
   "id": "73fdbb0a",
   "metadata": {},
   "outputs": [],
   "source": []
  }
 ],
 "metadata": {
  "kernelspec": {
   "display_name": "Python 3",
   "language": "python",
   "name": "python3"
  },
  "language_info": {
   "codemirror_mode": {
    "name": "ipython",
    "version": 3
   },
   "file_extension": ".py",
   "mimetype": "text/x-python",
   "name": "python",
   "nbconvert_exporter": "python",
   "pygments_lexer": "ipython3",
   "version": "3.7.9"
  }
 },
 "nbformat": 4,
 "nbformat_minor": 5
}
